{
 "cells": [
  {
   "cell_type": "markdown",
   "metadata": {
    "id": "_evI4QF2F7Gz"
   },
   "source": [
    "# ANÁLISIS DEL PBI PERUANO (USO DE API DEL BCRP)\n"
   ]
  },
  {
   "cell_type": "markdown",
   "metadata": {
    "id": "bMW58_f2GHGH"
   },
   "source": [
    "## I. Introducción"
   ]
  },
  {
   "cell_type": "markdown",
   "metadata": {
    "id": "wdDI2uLHGNDv"
   },
   "source": [
    "<p style=\"text-align: justify;\"> Practicamente todas las economías del mundo buscan crecer y esto se mide a través del PBI, el Perú no es la excepción. En este sentido, su comportamiento es importante. Desde ya, es fácil presuponer algunas características como la presencia de tendencia en la serie (por lo tanto, no estacionalidad) que nos planteará algunas observaciones. Empezaremos trabajando con el API del BCR para conseguir la base de datos. </p>\n",
    "\n",
    "<p style=\"text-align: justify;\"> Recomendamos tener una noción previa del uso de diccionarios y listas en Python </p>\n"
   ]
  },
  {
   "cell_type": "markdown",
   "metadata": {
    "id": "NDa75AVMIhVS"
   },
   "source": [
    "## II. API del BCRP"
   ]
  },
  {
   "cell_type": "code",
   "execution_count": 130,
   "metadata": {
    "colab": {
     "base_uri": "https://localhost:8080/"
    },
    "id": "27hRwLwUGY5h",
    "outputId": "7d66332f-a049-43f9-dd2f-99f1ce4abbf6"
   },
   "outputs": [
    {
     "name": "stdout",
     "output_type": "stream",
     "text": [
      "https://estadisticas.bcrp.gob.pe/estadisticas/series/api/PN01770AM/json/2005-1/2019-12\n"
     ]
    }
   ],
   "source": [
    "#https://estadisticas.bcrp.gob.pe/estadisticas/series/mensuales/resultados/PN01288PM/html\n",
    "#PN01770AM : PBI\n",
    "#PN01142MM : índice bursátil\n",
    "#PN01288PM:  índice de PM sin alimentos\n",
    "url_base=\"https://estadisticas.bcrp.gob.pe/estadisticas/series/api/\"\n",
    "cod_ser=\"PN01770AM\"   #[códigos de series mensuales]\n",
    "formato=\"/json\"\n",
    "per=\"/2005-1/2019-12\"\n",
    "url=url_base+cod_ser+formato+per\n",
    "print(url)\n",
    "#args=\"address=1600+Amphitheatre+Parkway,+Mountain+View,+CA&\"+key_api\n",
    "#No necesitamos poner la url en formato de diccionario, no hay \"?\" no usamos query con argumentos con key y values"
   ]
  },
  {
   "cell_type": "code",
   "execution_count": 131,
   "metadata": {
    "colab": {
     "base_uri": "https://localhost:8080/"
    },
    "id": "tXgNJtu2GY51",
    "outputId": "d255cbd4-aa82-466d-948e-c8d1df508356"
   },
   "outputs": [
    {
     "name": "stdout",
     "output_type": "stream",
     "text": [
      "<Response [200]>\n"
     ]
    },
    {
     "data": {
      "text/plain": [
       "'200: Todo salió bien y se devolvió el resultado (si lo hubiera).\\n301: el servidor lo redirige a un punto final diferente. Esto puede suceder cuando una empresa cambia los nombres de dominio o se cambia el nombre de un punto final.\\n400: El servidor cree que realizó una solicitud incorrecta. Esto puede suceder cuando no envía los datos correctos, entre otras cosas.\\n401: el servidor cree que no está autenticado. Muchas API requieren credenciales de inicio de sesión, por lo que esto sucede cuando no envía las credenciales correctas para acceder a una API.\\n403: El recurso al que intentas acceder está prohibido: no tienes los permisos adecuados para verlo.\\n404: el recurso al que intentó acceder no se encontró en el servidor.\\n503: El servidor no está listo para manejar la solicitud'"
      ]
     },
     "execution_count": 131,
     "metadata": {},
     "output_type": "execute_result"
    }
   ],
   "source": [
    "import requests\n",
    "response=requests.get(url)\n",
    "print(response)\n",
    "\n",
    "'''200: Todo salió bien y se devolvió el resultado (si lo hubiera).\n",
    "301: el servidor lo redirige a un punto final diferente. Esto puede suceder cuando una empresa cambia los nombres de dominio o se cambia el nombre de un punto final.\n",
    "400: El servidor cree que realizó una solicitud incorrecta. Esto puede suceder cuando no envía los datos correctos, entre otras cosas.\n",
    "401: el servidor cree que no está autenticado. Muchas API requieren credenciales de inicio de sesión, por lo que esto sucede cuando no envía las credenciales correctas para acceder a una API.\n",
    "403: El recurso al que intentas acceder está prohibido: no tienes los permisos adecuados para verlo.\n",
    "404: el recurso al que intentó acceder no se encontró en el servidor.\n",
    "503: El servidor no está listo para manejar la solicitud'''"
   ]
  },
  {
   "cell_type": "code",
   "execution_count": 132,
   "metadata": {
    "colab": {
     "base_uri": "https://localhost:8080/",
     "height": 72
    },
    "id": "GnKSACMvGY56",
    "outputId": "04cb048c-b541-496a-fe5a-ba04fe4d20ec"
   },
   "outputs": [
    {
     "name": "stdout",
     "output_type": "stream",
     "text": [
      "{'config': {'title': 'Producto bruto interno y demanda interna (índice 2007=100)', 'series': [{'name': 'Producto bruto interno y demanda interna (índice 2007=100) - PBI', 'dec': '1'}]}, 'periods': [{'name': 'Ene.2005', 'values': ['79.9791613436588']}, {'name': 'Feb.2005', 'values': ['80.134460157334']}, {'name': 'Mar.2005', 'values': ['81.3964132411787']}, {'name': 'Abr.2005', 'values': ['87.0734472979407']}, {'name': 'May.2005', 'values': ['92.1414553918693']}, {'name': 'Jun.2005', 'values': ['88.4557732759908']}, {'name': 'Jul.2005', 'values': ['87.276600902297']}, {'name': 'Ago.2005', 'values': ['82.9894833725657']}, {'name': 'Sep.2005', 'values': ['82.0878667862381']}, {'name': 'Oct.2005', 'values': ['84.8027241979274']}, {'name': 'Nov.2005', 'values': ['90.4951179010569']}, {'name': 'Dic.2005', 'values': ['91.5459269781851']}, {'name': 'Ene.2006', 'values': ['85.6590427598994']}, {'name': 'Feb.2006', 'values': ['84.6285223502132']}, {'name': 'Mar.2006', 'values': ['91.2286931254313']}, {'name': 'Abr.2006', 'values': ['91.7780026508836']}, {'name': 'May.2006', 'values': ['97.7619066472792']}, {'name': 'Jun.2006', 'values': ['95.0729001070201']}, {'name': 'Jul.2006', 'values': ['92.9616004138741']}, {'name': 'Ago.2006', 'values': ['91.5547630160115']}, {'name': 'Sep.2006', 'values': ['88.7693298777215']}, {'name': 'Oct.2006', 'values': ['92.1822069581638']}, {'name': 'Nov.2006', 'values': ['94.7874215284444']}, {'name': 'Dic.2006', 'values': ['99.4183590716473']}, {'name': 'Ene.2007', 'values': ['89.948891875024']}, {'name': 'Feb.2007', 'values': ['88.6754172656189']}, {'name': 'Mar.2007', 'values': ['96.7166807859656']}, {'name': 'Abr.2007', 'values': ['96.6358439215487']}, {'name': 'May.2007', 'values': ['104.744753291331']}, {'name': 'Jun.2007', 'values': ['101.255860662521']}, {'name': 'Jul.2007', 'values': ['102.534731811414']}, {'name': 'Ago.2007', 'values': ['100.113950462611']}, {'name': 'Sep.2007', 'values': ['100.225943716493']}, {'name': 'Oct.2007', 'values': ['103.154829161475']}, {'name': 'Nov.2007', 'values': ['104.110657226655']}, {'name': 'Dic.2007', 'values': ['111.882439819342']}, {'name': 'Ene.2008', 'values': ['98.5149773291643']}, {'name': 'Feb.2008', 'values': ['100.709860257349']}, {'name': 'Mar.2008', 'values': ['104.115307520329']}, {'name': 'Abr.2008', 'values': ['110.287664370675']}, {'name': 'May.2008', 'values': ['112.120913726693']}, {'name': 'Jun.2008', 'values': ['112.211609963734']}, {'name': 'Jul.2008', 'values': ['112.320516016464']}, {'name': 'Ago.2008', 'values': ['108.922292629548']}, {'name': 'Sep.2008', 'values': ['110.725068248671']}, {'name': 'Oct.2008', 'values': ['111.641043578987']}, {'name': 'Nov.2008', 'values': ['110.655001246582']}, {'name': 'Dic.2008', 'values': ['117.493523482104']}, {'name': 'Ene.2009', 'values': ['103.013101977079']}, {'name': 'Feb.2009', 'values': ['101.019865758232']}, {'name': 'Mar.2009', 'values': ['107.121546842635']}, {'name': 'Abr.2009', 'values': ['108.808082918569']}, {'name': 'May.2009', 'values': ['114.22464786173']}, {'name': 'Jun.2009', 'values': ['108.887627134331']}, {'name': 'Jul.2009', 'values': ['110.717741226661']}, {'name': 'Ago.2009', 'values': ['109.795538603335']}, {'name': 'Sep.2009', 'values': ['110.86582898004']}, {'name': 'Oct.2009', 'values': ['112.955997594939']}, {'name': 'Nov.2009', 'values': ['113.624205299902']}, {'name': 'Dic.2009', 'values': ['122.425577213106']}, {'name': 'Ene.2010', 'values': ['106.153025639292']}, {'name': 'Feb.2010', 'values': ['106.146322827933']}, {'name': 'Mar.2010', 'values': ['115.833731729949']}, {'name': 'Abr.2010', 'values': ['117.484525272731']}, {'name': 'May.2010', 'values': ['123.028902592226']}, {'name': 'Jun.2010', 'values': ['123.162705739863']}, {'name': 'Jul.2010', 'values': ['121.894425888244']}, {'name': 'Ago.2010', 'values': ['119.607860483274']}, {'name': 'Sep.2010', 'values': ['122.292317240048']}, {'name': 'Oct.2010', 'values': ['123.835093598882']}, {'name': 'Nov.2010', 'values': ['123.761084689684']}, {'name': 'Dic.2010', 'values': ['132.102000141137']}, {'name': 'Ene.2011', 'values': ['116.607351030303']}, {'name': 'Feb.2011', 'values': ['114.949281605472']}, {'name': 'Mar.2011', 'values': ['125.021518391095']}, {'name': 'Abr.2011', 'values': ['126.5570445669']}, {'name': 'May.2011', 'values': ['130.030006298954']}, {'name': 'Jun.2011', 'values': ['126.941054549273']}, {'name': 'Jul.2011', 'values': ['129.392947204169']}, {'name': 'Ago.2011', 'values': ['127.436349292877']}, {'name': 'Sep.2011', 'values': ['128.310944143643']}, {'name': 'Oct.2011', 'values': ['129.418112541031']}, {'name': 'Nov.2011', 'values': ['129.64481294438']}, {'name': 'Dic.2011', 'values': ['143.601358332839']}, {'name': 'Ene.2012', 'values': ['122.822590088739']}, {'name': 'Feb.2012', 'values': ['122.917522307054']}, {'name': 'Mar.2012', 'values': ['132.130558417313']}, {'name': 'Abr.2012', 'values': ['130.158216802128']}, {'name': 'May.2012', 'values': ['138.807669844065']}, {'name': 'Jun.2012', 'values': ['136.27618845403']}, {'name': 'Jul.2012', 'values': ['138.550598740221']}, {'name': 'Ago.2012', 'values': ['136.186033978302']}, {'name': 'Sep.2012', 'values': ['136.751000660028']}, {'name': 'Oct.2012', 'values': ['138.733908716083']}, {'name': 'Nov.2012', 'values': ['137.252468378653']}, {'name': 'Dic.2012', 'values': ['148.24000775099']}, {'name': 'Ene.2013', 'values': ['130.273708234207']}, {'name': 'Feb.2013', 'values': ['128.857322355164']}, {'name': 'Mar.2013', 'values': ['136.602263236801']}, {'name': 'Abr.2013', 'values': ['141.48154612876']}, {'name': 'May.2013', 'values': ['144.684999949733']}, {'name': 'Jun.2013', 'values': ['144.335248367247']}, {'name': 'Jul.2013', 'values': ['145.942897859897']}, {'name': 'Ago.2013', 'values': ['143.792408742956']}, {'name': 'Sep.2013', 'values': ['143.547137549196']}, {'name': 'Oct.2013', 'values': ['147.503866716747']}, {'name': 'Nov.2013', 'values': ['147.500876185344']}, {'name': 'Dic.2013', 'values': ['158.804144814758']}, {'name': 'Ene.2014', 'values': ['135.792849582942']}, {'name': 'Feb.2014', 'values': ['135.617893985249']}, {'name': 'Mar.2014', 'values': ['143.900087140736']}, {'name': 'Abr.2014', 'values': ['145.609545711116']}, {'name': 'May.2014', 'values': ['148.421357252142']}, {'name': 'Jun.2014', 'values': ['144.912448443967']}, {'name': 'Jul.2014', 'values': ['148.187537983575']}, {'name': 'Ago.2014', 'values': ['145.764306213892']}, {'name': 'Sep.2014', 'values': ['147.442006383865']}, {'name': 'Oct.2014', 'values': ['150.850391268266']}, {'name': 'Nov.2014', 'values': ['147.702289120392']}, {'name': 'Dic.2014', 'values': ['160.144049895315']}, {'name': 'Ene.2015', 'values': ['137.921077233007']}, {'name': 'Feb.2015', 'values': ['137.266874959034']}, {'name': 'Mar.2015', 'values': ['148.174327103234']}, {'name': 'Abr.2015', 'values': ['151.686831170872']}, {'name': 'May.2015', 'values': ['150.420693358248']}, {'name': 'Jun.2015', 'values': ['150.802301648105']}, {'name': 'Jul.2015', 'values': ['153.471028181483']}, {'name': 'Ago.2015', 'values': ['149.687757193712']}, {'name': 'Sep.2015', 'values': ['152.207695357998']}, {'name': 'Oct.2015', 'values': ['155.919340841107']}, {'name': 'Nov.2015', 'values': ['153.604235210718']}, {'name': 'Dic.2015', 'values': ['170.612432978585']}, {'name': 'Ene.2016', 'values': ['142.950655593597']}, {'name': 'Feb.2016', 'values': ['146.157758408323']}, {'name': 'Mar.2016', 'values': ['153.676002191926']}, {'name': 'Abr.2016', 'values': ['156.01029575947']}, {'name': 'May.2016', 'values': ['158.020470230666']}, {'name': 'Jun.2016', 'values': ['156.441146410923']}, {'name': 'Jul.2016', 'values': ['159.303182636246']}, {'name': 'Ago.2016', 'values': ['158.54740988931']}, {'name': 'Sep.2016', 'values': ['159.198133719473']}, {'name': 'Oct.2016', 'values': ['159.453175861771']}, {'name': 'Nov.2016', 'values': ['159.008032205431']}, {'name': 'Dic.2016', 'values': ['176.385084478553']}, {'name': 'Ene.2017', 'values': ['150.217864452394']}, {'name': 'Feb.2017', 'values': ['147.342977277516']}, {'name': 'Mar.2017', 'values': ['155.2289887445']}, {'name': 'Abr.2017', 'values': ['156.514755332027']}, {'name': 'May.2017', 'values': ['163.602696665248']}, {'name': 'Jun.2017', 'values': ['162.536529072277']}, {'name': 'Jul.2017', 'values': ['162.718683017657']}, {'name': 'Ago.2017', 'values': ['162.944325629995']}, {'name': 'Sep.2017', 'values': ['164.440198382914']}, {'name': 'Oct.2017', 'values': ['165.157200750526']}, {'name': 'Nov.2017', 'values': ['162.217614216323']}, {'name': 'Dic.2017', 'values': ['178.887887960154']}, {'name': 'Ene.2018', 'values': ['154.454008229951']}, {'name': 'Feb.2018', 'values': ['151.232831877643']}, {'name': 'Mar.2018', 'values': ['161.236350608912']}, {'name': 'Abr.2018', 'values': ['168.94202690539']}, {'name': 'May.2018', 'values': ['174.56407734182']}, {'name': 'Jun.2018', 'values': ['165.966049835702']}, {'name': 'Jul.2018', 'values': ['166.98191251272']}, {'name': 'Ago.2018', 'values': ['166.822400579989']}, {'name': 'Sep.2018', 'values': ['168.51831530281']}, {'name': 'Oct.2018', 'values': ['171.895614541147']}, {'name': 'Nov.2018', 'values': ['170.506934302777']}, {'name': 'Dic.2018', 'values': ['187.367173849466']}, {'name': 'Ene.2019', 'values': ['157.187844175622']}, {'name': 'Feb.2019', 'values': ['154.589821648405']}, {'name': 'Mar.2019', 'values': ['166.721328164303']}, {'name': 'Abr.2019', 'values': ['169.144757337677']}, {'name': 'May.2019', 'values': ['175.859353849945']}, {'name': 'Jun.2019', 'values': ['170.566569664831']}, {'name': 'Jul.2019', 'values': ['173.258853667138']}, {'name': 'Ago.2019', 'values': ['172.844689240926']}, {'name': 'Sep.2019', 'values': ['172.464650840243']}, {'name': 'Oct.2019', 'values': ['176.009008472759']}, {'name': 'Nov.2019', 'values': ['174.036427842845']}, {'name': 'Dic.2019', 'values': ['189.5238889357']}]}\n"
     ]
    },
    {
     "data": {
      "text/plain": [
       "'if response.status_code==200:\\n    content=response.content '"
      ]
     },
     "execution_count": 132,
     "metadata": {},
     "output_type": "execute_result"
    }
   ],
   "source": [
    "\n",
    "#print(response.url)\n",
    "#Extraemos en formato json\n",
    "response_json=response.json()\n",
    "print(response_json) \n",
    "\n",
    "\n",
    "'''if response.status_code==200:\n",
    "    content=response.content '''"
   ]
  },
  {
   "cell_type": "code",
   "execution_count": 133,
   "metadata": {
    "colab": {
     "base_uri": "https://localhost:8080/"
    },
    "id": "2sP9jDlfGY59",
    "outputId": "68a40f83-195d-4ab7-950f-3b222f3c82ba"
   },
   "outputs": [
    {
     "name": "stdout",
     "output_type": "stream",
     "text": [
      "config\n",
      "periods\n"
     ]
    }
   ],
   "source": [
    "for key in response_json.keys():\n",
    "    print(key)"
   ]
  },
  {
   "cell_type": "code",
   "execution_count": 134,
   "metadata": {
    "colab": {
     "base_uri": "https://localhost:8080/"
    },
    "id": "hG65IoEFGY5_",
    "outputId": "1ebc4435-f5ec-48c2-c294-6cd7a5c6bfe1"
   },
   "outputs": [
    {
     "name": "stdout",
     "output_type": "stream",
     "text": [
      "{'title': 'Producto bruto interno y demanda interna (índice 2007=100)', 'series': [{'name': 'Producto bruto interno y demanda interna (índice 2007=100) - PBI', 'dec': '1'}]}\n"
     ]
    }
   ],
   "source": [
    "print(response_json['config'])\n"
   ]
  },
  {
   "cell_type": "code",
   "execution_count": 135,
   "metadata": {
    "colab": {
     "base_uri": "https://localhost:8080/"
    },
    "id": "3j85snGGGY6A",
    "outputId": "ec99df87-6be0-48fb-fac8-ce754131eb29"
   },
   "outputs": [
    {
     "name": "stdout",
     "output_type": "stream",
     "text": [
      "[{'name': 'Ene.2005', 'values': ['79.9791613436588']}, {'name': 'Feb.2005', 'values': ['80.134460157334']}, {'name': 'Mar.2005', 'values': ['81.3964132411787']}, {'name': 'Abr.2005', 'values': ['87.0734472979407']}, {'name': 'May.2005', 'values': ['92.1414553918693']}, {'name': 'Jun.2005', 'values': ['88.4557732759908']}, {'name': 'Jul.2005', 'values': ['87.276600902297']}, {'name': 'Ago.2005', 'values': ['82.9894833725657']}, {'name': 'Sep.2005', 'values': ['82.0878667862381']}, {'name': 'Oct.2005', 'values': ['84.8027241979274']}, {'name': 'Nov.2005', 'values': ['90.4951179010569']}, {'name': 'Dic.2005', 'values': ['91.5459269781851']}, {'name': 'Ene.2006', 'values': ['85.6590427598994']}, {'name': 'Feb.2006', 'values': ['84.6285223502132']}, {'name': 'Mar.2006', 'values': ['91.2286931254313']}, {'name': 'Abr.2006', 'values': ['91.7780026508836']}, {'name': 'May.2006', 'values': ['97.7619066472792']}, {'name': 'Jun.2006', 'values': ['95.0729001070201']}, {'name': 'Jul.2006', 'values': ['92.9616004138741']}, {'name': 'Ago.2006', 'values': ['91.5547630160115']}, {'name': 'Sep.2006', 'values': ['88.7693298777215']}, {'name': 'Oct.2006', 'values': ['92.1822069581638']}, {'name': 'Nov.2006', 'values': ['94.7874215284444']}, {'name': 'Dic.2006', 'values': ['99.4183590716473']}, {'name': 'Ene.2007', 'values': ['89.948891875024']}, {'name': 'Feb.2007', 'values': ['88.6754172656189']}, {'name': 'Mar.2007', 'values': ['96.7166807859656']}, {'name': 'Abr.2007', 'values': ['96.6358439215487']}, {'name': 'May.2007', 'values': ['104.744753291331']}, {'name': 'Jun.2007', 'values': ['101.255860662521']}, {'name': 'Jul.2007', 'values': ['102.534731811414']}, {'name': 'Ago.2007', 'values': ['100.113950462611']}, {'name': 'Sep.2007', 'values': ['100.225943716493']}, {'name': 'Oct.2007', 'values': ['103.154829161475']}, {'name': 'Nov.2007', 'values': ['104.110657226655']}, {'name': 'Dic.2007', 'values': ['111.882439819342']}, {'name': 'Ene.2008', 'values': ['98.5149773291643']}, {'name': 'Feb.2008', 'values': ['100.709860257349']}, {'name': 'Mar.2008', 'values': ['104.115307520329']}, {'name': 'Abr.2008', 'values': ['110.287664370675']}, {'name': 'May.2008', 'values': ['112.120913726693']}, {'name': 'Jun.2008', 'values': ['112.211609963734']}, {'name': 'Jul.2008', 'values': ['112.320516016464']}, {'name': 'Ago.2008', 'values': ['108.922292629548']}, {'name': 'Sep.2008', 'values': ['110.725068248671']}, {'name': 'Oct.2008', 'values': ['111.641043578987']}, {'name': 'Nov.2008', 'values': ['110.655001246582']}, {'name': 'Dic.2008', 'values': ['117.493523482104']}, {'name': 'Ene.2009', 'values': ['103.013101977079']}, {'name': 'Feb.2009', 'values': ['101.019865758232']}, {'name': 'Mar.2009', 'values': ['107.121546842635']}, {'name': 'Abr.2009', 'values': ['108.808082918569']}, {'name': 'May.2009', 'values': ['114.22464786173']}, {'name': 'Jun.2009', 'values': ['108.887627134331']}, {'name': 'Jul.2009', 'values': ['110.717741226661']}, {'name': 'Ago.2009', 'values': ['109.795538603335']}, {'name': 'Sep.2009', 'values': ['110.86582898004']}, {'name': 'Oct.2009', 'values': ['112.955997594939']}, {'name': 'Nov.2009', 'values': ['113.624205299902']}, {'name': 'Dic.2009', 'values': ['122.425577213106']}, {'name': 'Ene.2010', 'values': ['106.153025639292']}, {'name': 'Feb.2010', 'values': ['106.146322827933']}, {'name': 'Mar.2010', 'values': ['115.833731729949']}, {'name': 'Abr.2010', 'values': ['117.484525272731']}, {'name': 'May.2010', 'values': ['123.028902592226']}, {'name': 'Jun.2010', 'values': ['123.162705739863']}, {'name': 'Jul.2010', 'values': ['121.894425888244']}, {'name': 'Ago.2010', 'values': ['119.607860483274']}, {'name': 'Sep.2010', 'values': ['122.292317240048']}, {'name': 'Oct.2010', 'values': ['123.835093598882']}, {'name': 'Nov.2010', 'values': ['123.761084689684']}, {'name': 'Dic.2010', 'values': ['132.102000141137']}, {'name': 'Ene.2011', 'values': ['116.607351030303']}, {'name': 'Feb.2011', 'values': ['114.949281605472']}, {'name': 'Mar.2011', 'values': ['125.021518391095']}, {'name': 'Abr.2011', 'values': ['126.5570445669']}, {'name': 'May.2011', 'values': ['130.030006298954']}, {'name': 'Jun.2011', 'values': ['126.941054549273']}, {'name': 'Jul.2011', 'values': ['129.392947204169']}, {'name': 'Ago.2011', 'values': ['127.436349292877']}, {'name': 'Sep.2011', 'values': ['128.310944143643']}, {'name': 'Oct.2011', 'values': ['129.418112541031']}, {'name': 'Nov.2011', 'values': ['129.64481294438']}, {'name': 'Dic.2011', 'values': ['143.601358332839']}, {'name': 'Ene.2012', 'values': ['122.822590088739']}, {'name': 'Feb.2012', 'values': ['122.917522307054']}, {'name': 'Mar.2012', 'values': ['132.130558417313']}, {'name': 'Abr.2012', 'values': ['130.158216802128']}, {'name': 'May.2012', 'values': ['138.807669844065']}, {'name': 'Jun.2012', 'values': ['136.27618845403']}, {'name': 'Jul.2012', 'values': ['138.550598740221']}, {'name': 'Ago.2012', 'values': ['136.186033978302']}, {'name': 'Sep.2012', 'values': ['136.751000660028']}, {'name': 'Oct.2012', 'values': ['138.733908716083']}, {'name': 'Nov.2012', 'values': ['137.252468378653']}, {'name': 'Dic.2012', 'values': ['148.24000775099']}, {'name': 'Ene.2013', 'values': ['130.273708234207']}, {'name': 'Feb.2013', 'values': ['128.857322355164']}, {'name': 'Mar.2013', 'values': ['136.602263236801']}, {'name': 'Abr.2013', 'values': ['141.48154612876']}, {'name': 'May.2013', 'values': ['144.684999949733']}, {'name': 'Jun.2013', 'values': ['144.335248367247']}, {'name': 'Jul.2013', 'values': ['145.942897859897']}, {'name': 'Ago.2013', 'values': ['143.792408742956']}, {'name': 'Sep.2013', 'values': ['143.547137549196']}, {'name': 'Oct.2013', 'values': ['147.503866716747']}, {'name': 'Nov.2013', 'values': ['147.500876185344']}, {'name': 'Dic.2013', 'values': ['158.804144814758']}, {'name': 'Ene.2014', 'values': ['135.792849582942']}, {'name': 'Feb.2014', 'values': ['135.617893985249']}, {'name': 'Mar.2014', 'values': ['143.900087140736']}, {'name': 'Abr.2014', 'values': ['145.609545711116']}, {'name': 'May.2014', 'values': ['148.421357252142']}, {'name': 'Jun.2014', 'values': ['144.912448443967']}, {'name': 'Jul.2014', 'values': ['148.187537983575']}, {'name': 'Ago.2014', 'values': ['145.764306213892']}, {'name': 'Sep.2014', 'values': ['147.442006383865']}, {'name': 'Oct.2014', 'values': ['150.850391268266']}, {'name': 'Nov.2014', 'values': ['147.702289120392']}, {'name': 'Dic.2014', 'values': ['160.144049895315']}, {'name': 'Ene.2015', 'values': ['137.921077233007']}, {'name': 'Feb.2015', 'values': ['137.266874959034']}, {'name': 'Mar.2015', 'values': ['148.174327103234']}, {'name': 'Abr.2015', 'values': ['151.686831170872']}, {'name': 'May.2015', 'values': ['150.420693358248']}, {'name': 'Jun.2015', 'values': ['150.802301648105']}, {'name': 'Jul.2015', 'values': ['153.471028181483']}, {'name': 'Ago.2015', 'values': ['149.687757193712']}, {'name': 'Sep.2015', 'values': ['152.207695357998']}, {'name': 'Oct.2015', 'values': ['155.919340841107']}, {'name': 'Nov.2015', 'values': ['153.604235210718']}, {'name': 'Dic.2015', 'values': ['170.612432978585']}, {'name': 'Ene.2016', 'values': ['142.950655593597']}, {'name': 'Feb.2016', 'values': ['146.157758408323']}, {'name': 'Mar.2016', 'values': ['153.676002191926']}, {'name': 'Abr.2016', 'values': ['156.01029575947']}, {'name': 'May.2016', 'values': ['158.020470230666']}, {'name': 'Jun.2016', 'values': ['156.441146410923']}, {'name': 'Jul.2016', 'values': ['159.303182636246']}, {'name': 'Ago.2016', 'values': ['158.54740988931']}, {'name': 'Sep.2016', 'values': ['159.198133719473']}, {'name': 'Oct.2016', 'values': ['159.453175861771']}, {'name': 'Nov.2016', 'values': ['159.008032205431']}, {'name': 'Dic.2016', 'values': ['176.385084478553']}, {'name': 'Ene.2017', 'values': ['150.217864452394']}, {'name': 'Feb.2017', 'values': ['147.342977277516']}, {'name': 'Mar.2017', 'values': ['155.2289887445']}, {'name': 'Abr.2017', 'values': ['156.514755332027']}, {'name': 'May.2017', 'values': ['163.602696665248']}, {'name': 'Jun.2017', 'values': ['162.536529072277']}, {'name': 'Jul.2017', 'values': ['162.718683017657']}, {'name': 'Ago.2017', 'values': ['162.944325629995']}, {'name': 'Sep.2017', 'values': ['164.440198382914']}, {'name': 'Oct.2017', 'values': ['165.157200750526']}, {'name': 'Nov.2017', 'values': ['162.217614216323']}, {'name': 'Dic.2017', 'values': ['178.887887960154']}, {'name': 'Ene.2018', 'values': ['154.454008229951']}, {'name': 'Feb.2018', 'values': ['151.232831877643']}, {'name': 'Mar.2018', 'values': ['161.236350608912']}, {'name': 'Abr.2018', 'values': ['168.94202690539']}, {'name': 'May.2018', 'values': ['174.56407734182']}, {'name': 'Jun.2018', 'values': ['165.966049835702']}, {'name': 'Jul.2018', 'values': ['166.98191251272']}, {'name': 'Ago.2018', 'values': ['166.822400579989']}, {'name': 'Sep.2018', 'values': ['168.51831530281']}, {'name': 'Oct.2018', 'values': ['171.895614541147']}, {'name': 'Nov.2018', 'values': ['170.506934302777']}, {'name': 'Dic.2018', 'values': ['187.367173849466']}, {'name': 'Ene.2019', 'values': ['157.187844175622']}, {'name': 'Feb.2019', 'values': ['154.589821648405']}, {'name': 'Mar.2019', 'values': ['166.721328164303']}, {'name': 'Abr.2019', 'values': ['169.144757337677']}, {'name': 'May.2019', 'values': ['175.859353849945']}, {'name': 'Jun.2019', 'values': ['170.566569664831']}, {'name': 'Jul.2019', 'values': ['173.258853667138']}, {'name': 'Ago.2019', 'values': ['172.844689240926']}, {'name': 'Sep.2019', 'values': ['172.464650840243']}, {'name': 'Oct.2019', 'values': ['176.009008472759']}, {'name': 'Nov.2019', 'values': ['174.036427842845']}, {'name': 'Dic.2019', 'values': ['189.5238889357']}]\n"
     ]
    }
   ],
   "source": [
    "print(response_json['periods'])"
   ]
  },
  {
   "cell_type": "code",
   "execution_count": 136,
   "metadata": {
    "colab": {
     "base_uri": "https://localhost:8080/"
    },
    "id": "VbNkAWceGY6B",
    "outputId": "6dd75f09-a429-4e1e-8100-a4d0dd28b740"
   },
   "outputs": [
    {
     "name": "stdout",
     "output_type": "stream",
     "text": [
      "{'name': 'Ene.2005', 'values': ['79.9791613436588']}\n"
     ]
    }
   ],
   "source": [
    "print(response_json['periods'][0])"
   ]
  },
  {
   "cell_type": "code",
   "execution_count": 137,
   "metadata": {
    "colab": {
     "base_uri": "https://localhost:8080/"
    },
    "id": "OjFpKn1MGY6C",
    "outputId": "97275fe3-af6b-44cf-df95-b6c681a92717"
   },
   "outputs": [
    {
     "name": "stdout",
     "output_type": "stream",
     "text": [
      "['79.9791613436588']\n"
     ]
    }
   ],
   "source": [
    "print(response_json['periods'][0][\"values\"])\n",
    "\n",
    "#MORALEJA: IMPORTANTE DISTINGUIR LISTAS Y DICCIONARIOS EN PYTHON"
   ]
  },
  {
   "cell_type": "code",
   "execution_count": 138,
   "metadata": {
    "colab": {
     "base_uri": "https://localhost:8080/"
    },
    "id": "CkzHiUMzGY6F",
    "outputId": "d6fe14ee-b518-499d-f209-ff98ed69efde"
   },
   "outputs": [
    {
     "name": "stdout",
     "output_type": "stream",
     "text": [
      "[79.9791613436588, 80.134460157334, 81.3964132411787, 87.0734472979407, 92.1414553918693, 88.4557732759908, 87.276600902297, 82.9894833725657, 82.0878667862381, 84.8027241979274, 90.4951179010569, 91.5459269781851, 85.6590427598994, 84.6285223502132, 91.2286931254313, 91.7780026508836, 97.7619066472792, 95.0729001070201, 92.9616004138741, 91.5547630160115, 88.7693298777215, 92.1822069581638, 94.7874215284444, 99.4183590716473, 89.948891875024, 88.6754172656189, 96.7166807859656, 96.6358439215487, 104.744753291331, 101.255860662521, 102.534731811414, 100.113950462611, 100.225943716493, 103.154829161475, 104.110657226655, 111.882439819342, 98.5149773291643, 100.709860257349, 104.115307520329, 110.287664370675, 112.120913726693, 112.211609963734, 112.320516016464, 108.922292629548, 110.725068248671, 111.641043578987, 110.655001246582, 117.493523482104, 103.013101977079, 101.019865758232, 107.121546842635, 108.808082918569, 114.22464786173, 108.887627134331, 110.717741226661, 109.795538603335, 110.86582898004, 112.955997594939, 113.624205299902, 122.425577213106, 106.153025639292, 106.146322827933, 115.833731729949, 117.484525272731, 123.028902592226, 123.162705739863, 121.894425888244, 119.607860483274, 122.292317240048, 123.835093598882, 123.761084689684, 132.102000141137, 116.607351030303, 114.949281605472, 125.021518391095, 126.5570445669, 130.030006298954, 126.941054549273, 129.392947204169, 127.436349292877, 128.310944143643, 129.418112541031, 129.64481294438, 143.601358332839, 122.822590088739, 122.917522307054, 132.130558417313, 130.158216802128, 138.807669844065, 136.27618845403, 138.550598740221, 136.186033978302, 136.751000660028, 138.733908716083, 137.252468378653, 148.24000775099, 130.273708234207, 128.857322355164, 136.602263236801, 141.48154612876, 144.684999949733, 144.335248367247, 145.942897859897, 143.792408742956, 143.547137549196, 147.503866716747, 147.500876185344, 158.804144814758, 135.792849582942, 135.617893985249, 143.900087140736, 145.609545711116, 148.421357252142, 144.912448443967, 148.187537983575, 145.764306213892, 147.442006383865, 150.850391268266, 147.702289120392, 160.144049895315, 137.921077233007, 137.266874959034, 148.174327103234, 151.686831170872, 150.420693358248, 150.802301648105, 153.471028181483, 149.687757193712, 152.207695357998, 155.919340841107, 153.604235210718, 170.612432978585, 142.950655593597, 146.157758408323, 153.676002191926, 156.01029575947, 158.020470230666, 156.441146410923, 159.303182636246, 158.54740988931, 159.198133719473, 159.453175861771, 159.008032205431, 176.385084478553, 150.217864452394, 147.342977277516, 155.2289887445, 156.514755332027, 163.602696665248, 162.536529072277, 162.718683017657, 162.944325629995, 164.440198382914, 165.157200750526, 162.217614216323, 178.887887960154, 154.454008229951, 151.232831877643, 161.236350608912, 168.94202690539, 174.56407734182, 165.966049835702, 166.98191251272, 166.822400579989, 168.51831530281, 171.895614541147, 170.506934302777, 187.367173849466, 157.187844175622, 154.589821648405, 166.721328164303, 169.144757337677, 175.859353849945, 170.566569664831, 173.258853667138, 172.844689240926, 172.464650840243, 176.009008472759, 174.036427842845, 189.5238889357]\n"
     ]
    }
   ],
   "source": [
    "#print(response_json.get(\"periods\"))  #el método get me da un resultado parecido a response_json['periods']\n",
    "periodos=response_json.get(\"periods\")\n",
    "price_index=[]\n",
    "for i in periodos:\n",
    "    valores_list=i['values']\n",
    "    for w in valores_list:\n",
    "        w=float(w)\n",
    "        price_index.append(w)\n",
    "    \n",
    "#print(type(price_index[0]))\n",
    "print(price_index)\n",
    "\n",
    "    \n",
    "    \n",
    "    \n",
    "    "
   ]
  },
  {
   "cell_type": "code",
   "execution_count": 139,
   "metadata": {
    "colab": {
     "base_uri": "https://localhost:8080/"
    },
    "id": "nGAKj30vGY6J",
    "outputId": "da37b50d-6819-4658-8f5e-228f1c2e894a"
   },
   "outputs": [
    {
     "name": "stdout",
     "output_type": "stream",
     "text": [
      "['Ene.2005', 'Feb.2005', 'Mar.2005', 'Abr.2005', 'May.2005', 'Jun.2005', 'Jul.2005', 'Ago.2005', 'Sep.2005', 'Oct.2005', 'Nov.2005', 'Dic.2005', 'Ene.2006', 'Feb.2006', 'Mar.2006', 'Abr.2006', 'May.2006', 'Jun.2006', 'Jul.2006', 'Ago.2006', 'Sep.2006', 'Oct.2006', 'Nov.2006', 'Dic.2006', 'Ene.2007', 'Feb.2007', 'Mar.2007', 'Abr.2007', 'May.2007', 'Jun.2007', 'Jul.2007', 'Ago.2007', 'Sep.2007', 'Oct.2007', 'Nov.2007', 'Dic.2007', 'Ene.2008', 'Feb.2008', 'Mar.2008', 'Abr.2008', 'May.2008', 'Jun.2008', 'Jul.2008', 'Ago.2008', 'Sep.2008', 'Oct.2008', 'Nov.2008', 'Dic.2008', 'Ene.2009', 'Feb.2009', 'Mar.2009', 'Abr.2009', 'May.2009', 'Jun.2009', 'Jul.2009', 'Ago.2009', 'Sep.2009', 'Oct.2009', 'Nov.2009', 'Dic.2009', 'Ene.2010', 'Feb.2010', 'Mar.2010', 'Abr.2010', 'May.2010', 'Jun.2010', 'Jul.2010', 'Ago.2010', 'Sep.2010', 'Oct.2010', 'Nov.2010', 'Dic.2010', 'Ene.2011', 'Feb.2011', 'Mar.2011', 'Abr.2011', 'May.2011', 'Jun.2011', 'Jul.2011', 'Ago.2011', 'Sep.2011', 'Oct.2011', 'Nov.2011', 'Dic.2011', 'Ene.2012', 'Feb.2012', 'Mar.2012', 'Abr.2012', 'May.2012', 'Jun.2012', 'Jul.2012', 'Ago.2012', 'Sep.2012', 'Oct.2012', 'Nov.2012', 'Dic.2012', 'Ene.2013', 'Feb.2013', 'Mar.2013', 'Abr.2013', 'May.2013', 'Jun.2013', 'Jul.2013', 'Ago.2013', 'Sep.2013', 'Oct.2013', 'Nov.2013', 'Dic.2013', 'Ene.2014', 'Feb.2014', 'Mar.2014', 'Abr.2014', 'May.2014', 'Jun.2014', 'Jul.2014', 'Ago.2014', 'Sep.2014', 'Oct.2014', 'Nov.2014', 'Dic.2014', 'Ene.2015', 'Feb.2015', 'Mar.2015', 'Abr.2015', 'May.2015', 'Jun.2015', 'Jul.2015', 'Ago.2015', 'Sep.2015', 'Oct.2015', 'Nov.2015', 'Dic.2015', 'Ene.2016', 'Feb.2016', 'Mar.2016', 'Abr.2016', 'May.2016', 'Jun.2016', 'Jul.2016', 'Ago.2016', 'Sep.2016', 'Oct.2016', 'Nov.2016', 'Dic.2016', 'Ene.2017', 'Feb.2017', 'Mar.2017', 'Abr.2017', 'May.2017', 'Jun.2017', 'Jul.2017', 'Ago.2017', 'Sep.2017', 'Oct.2017', 'Nov.2017', 'Dic.2017', 'Ene.2018', 'Feb.2018', 'Mar.2018', 'Abr.2018', 'May.2018', 'Jun.2018', 'Jul.2018', 'Ago.2018', 'Sep.2018', 'Oct.2018', 'Nov.2018', 'Dic.2018', 'Ene.2019', 'Feb.2019', 'Mar.2019', 'Abr.2019', 'May.2019', 'Jun.2019', 'Jul.2019', 'Ago.2019', 'Sep.2019', 'Oct.2019', 'Nov.2019', 'Dic.2019']\n"
     ]
    }
   ],
   "source": [
    "fechas=[]\n",
    "for i in periodos:\n",
    "    nombres=i['name']\n",
    "    fechas.append(nombres)\n",
    "    \n",
    "print(fechas)"
   ]
  },
  {
   "cell_type": "markdown",
   "metadata": {
    "id": "rsaQv5XYI-TC"
   },
   "source": [
    "## III. Limpieza y creación de Data Frame"
   ]
  },
  {
   "cell_type": "code",
   "execution_count": 140,
   "metadata": {
    "id": "Br9f3p8gGY6P"
   },
   "outputs": [],
   "source": [
    "\n",
    "import pandas as pd"
   ]
  },
  {
   "cell_type": "code",
   "execution_count": 141,
   "metadata": {
    "colab": {
     "base_uri": "https://localhost:8080/"
    },
    "id": "os7cbRiVGY6R",
    "outputId": "4cee272c-ce27-471e-e3f0-6e2398d30e7d"
   },
   "outputs": [
    {
     "name": "stdout",
     "output_type": "stream",
     "text": [
      "{'Fechas': ['Ene.2005', 'Feb.2005', 'Mar.2005', 'Abr.2005', 'May.2005', 'Jun.2005', 'Jul.2005', 'Ago.2005', 'Sep.2005', 'Oct.2005', 'Nov.2005', 'Dic.2005', 'Ene.2006', 'Feb.2006', 'Mar.2006', 'Abr.2006', 'May.2006', 'Jun.2006', 'Jul.2006', 'Ago.2006', 'Sep.2006', 'Oct.2006', 'Nov.2006', 'Dic.2006', 'Ene.2007', 'Feb.2007', 'Mar.2007', 'Abr.2007', 'May.2007', 'Jun.2007', 'Jul.2007', 'Ago.2007', 'Sep.2007', 'Oct.2007', 'Nov.2007', 'Dic.2007', 'Ene.2008', 'Feb.2008', 'Mar.2008', 'Abr.2008', 'May.2008', 'Jun.2008', 'Jul.2008', 'Ago.2008', 'Sep.2008', 'Oct.2008', 'Nov.2008', 'Dic.2008', 'Ene.2009', 'Feb.2009', 'Mar.2009', 'Abr.2009', 'May.2009', 'Jun.2009', 'Jul.2009', 'Ago.2009', 'Sep.2009', 'Oct.2009', 'Nov.2009', 'Dic.2009', 'Ene.2010', 'Feb.2010', 'Mar.2010', 'Abr.2010', 'May.2010', 'Jun.2010', 'Jul.2010', 'Ago.2010', 'Sep.2010', 'Oct.2010', 'Nov.2010', 'Dic.2010', 'Ene.2011', 'Feb.2011', 'Mar.2011', 'Abr.2011', 'May.2011', 'Jun.2011', 'Jul.2011', 'Ago.2011', 'Sep.2011', 'Oct.2011', 'Nov.2011', 'Dic.2011', 'Ene.2012', 'Feb.2012', 'Mar.2012', 'Abr.2012', 'May.2012', 'Jun.2012', 'Jul.2012', 'Ago.2012', 'Sep.2012', 'Oct.2012', 'Nov.2012', 'Dic.2012', 'Ene.2013', 'Feb.2013', 'Mar.2013', 'Abr.2013', 'May.2013', 'Jun.2013', 'Jul.2013', 'Ago.2013', 'Sep.2013', 'Oct.2013', 'Nov.2013', 'Dic.2013', 'Ene.2014', 'Feb.2014', 'Mar.2014', 'Abr.2014', 'May.2014', 'Jun.2014', 'Jul.2014', 'Ago.2014', 'Sep.2014', 'Oct.2014', 'Nov.2014', 'Dic.2014', 'Ene.2015', 'Feb.2015', 'Mar.2015', 'Abr.2015', 'May.2015', 'Jun.2015', 'Jul.2015', 'Ago.2015', 'Sep.2015', 'Oct.2015', 'Nov.2015', 'Dic.2015', 'Ene.2016', 'Feb.2016', 'Mar.2016', 'Abr.2016', 'May.2016', 'Jun.2016', 'Jul.2016', 'Ago.2016', 'Sep.2016', 'Oct.2016', 'Nov.2016', 'Dic.2016', 'Ene.2017', 'Feb.2017', 'Mar.2017', 'Abr.2017', 'May.2017', 'Jun.2017', 'Jul.2017', 'Ago.2017', 'Sep.2017', 'Oct.2017', 'Nov.2017', 'Dic.2017', 'Ene.2018', 'Feb.2018', 'Mar.2018', 'Abr.2018', 'May.2018', 'Jun.2018', 'Jul.2018', 'Ago.2018', 'Sep.2018', 'Oct.2018', 'Nov.2018', 'Dic.2018', 'Ene.2019', 'Feb.2019', 'Mar.2019', 'Abr.2019', 'May.2019', 'Jun.2019', 'Jul.2019', 'Ago.2019', 'Sep.2019', 'Oct.2019', 'Nov.2019', 'Dic.2019'], 'Valores': [79.9791613436588, 80.134460157334, 81.3964132411787, 87.0734472979407, 92.1414553918693, 88.4557732759908, 87.276600902297, 82.9894833725657, 82.0878667862381, 84.8027241979274, 90.4951179010569, 91.5459269781851, 85.6590427598994, 84.6285223502132, 91.2286931254313, 91.7780026508836, 97.7619066472792, 95.0729001070201, 92.9616004138741, 91.5547630160115, 88.7693298777215, 92.1822069581638, 94.7874215284444, 99.4183590716473, 89.948891875024, 88.6754172656189, 96.7166807859656, 96.6358439215487, 104.744753291331, 101.255860662521, 102.534731811414, 100.113950462611, 100.225943716493, 103.154829161475, 104.110657226655, 111.882439819342, 98.5149773291643, 100.709860257349, 104.115307520329, 110.287664370675, 112.120913726693, 112.211609963734, 112.320516016464, 108.922292629548, 110.725068248671, 111.641043578987, 110.655001246582, 117.493523482104, 103.013101977079, 101.019865758232, 107.121546842635, 108.808082918569, 114.22464786173, 108.887627134331, 110.717741226661, 109.795538603335, 110.86582898004, 112.955997594939, 113.624205299902, 122.425577213106, 106.153025639292, 106.146322827933, 115.833731729949, 117.484525272731, 123.028902592226, 123.162705739863, 121.894425888244, 119.607860483274, 122.292317240048, 123.835093598882, 123.761084689684, 132.102000141137, 116.607351030303, 114.949281605472, 125.021518391095, 126.5570445669, 130.030006298954, 126.941054549273, 129.392947204169, 127.436349292877, 128.310944143643, 129.418112541031, 129.64481294438, 143.601358332839, 122.822590088739, 122.917522307054, 132.130558417313, 130.158216802128, 138.807669844065, 136.27618845403, 138.550598740221, 136.186033978302, 136.751000660028, 138.733908716083, 137.252468378653, 148.24000775099, 130.273708234207, 128.857322355164, 136.602263236801, 141.48154612876, 144.684999949733, 144.335248367247, 145.942897859897, 143.792408742956, 143.547137549196, 147.503866716747, 147.500876185344, 158.804144814758, 135.792849582942, 135.617893985249, 143.900087140736, 145.609545711116, 148.421357252142, 144.912448443967, 148.187537983575, 145.764306213892, 147.442006383865, 150.850391268266, 147.702289120392, 160.144049895315, 137.921077233007, 137.266874959034, 148.174327103234, 151.686831170872, 150.420693358248, 150.802301648105, 153.471028181483, 149.687757193712, 152.207695357998, 155.919340841107, 153.604235210718, 170.612432978585, 142.950655593597, 146.157758408323, 153.676002191926, 156.01029575947, 158.020470230666, 156.441146410923, 159.303182636246, 158.54740988931, 159.198133719473, 159.453175861771, 159.008032205431, 176.385084478553, 150.217864452394, 147.342977277516, 155.2289887445, 156.514755332027, 163.602696665248, 162.536529072277, 162.718683017657, 162.944325629995, 164.440198382914, 165.157200750526, 162.217614216323, 178.887887960154, 154.454008229951, 151.232831877643, 161.236350608912, 168.94202690539, 174.56407734182, 165.966049835702, 166.98191251272, 166.822400579989, 168.51831530281, 171.895614541147, 170.506934302777, 187.367173849466, 157.187844175622, 154.589821648405, 166.721328164303, 169.144757337677, 175.859353849945, 170.566569664831, 173.258853667138, 172.844689240926, 172.464650840243, 176.009008472759, 174.036427842845, 189.5238889357]}\n"
     ]
    }
   ],
   "source": [
    "diccionario= {\"Fechas\":fechas, \"Valores\":price_index}\n",
    "print(diccionario)"
   ]
  },
  {
   "cell_type": "code",
   "execution_count": 142,
   "metadata": {
    "colab": {
     "base_uri": "https://localhost:8080/",
     "height": 419
    },
    "id": "ZA6HmzijGY6U",
    "outputId": "2d2a20c9-a8c3-49da-9b11-e8962aa80678"
   },
   "outputs": [
    {
     "data": {
      "text/html": [
       "<div>\n",
       "<style scoped>\n",
       "    .dataframe tbody tr th:only-of-type {\n",
       "        vertical-align: middle;\n",
       "    }\n",
       "\n",
       "    .dataframe tbody tr th {\n",
       "        vertical-align: top;\n",
       "    }\n",
       "\n",
       "    .dataframe thead th {\n",
       "        text-align: right;\n",
       "    }\n",
       "</style>\n",
       "<table border=\"1\" class=\"dataframe\">\n",
       "  <thead>\n",
       "    <tr style=\"text-align: right;\">\n",
       "      <th></th>\n",
       "      <th>Fechas</th>\n",
       "      <th>Valores</th>\n",
       "    </tr>\n",
       "  </thead>\n",
       "  <tbody>\n",
       "    <tr>\n",
       "      <th>0</th>\n",
       "      <td>Ene.2005</td>\n",
       "      <td>79.979161</td>\n",
       "    </tr>\n",
       "    <tr>\n",
       "      <th>1</th>\n",
       "      <td>Feb.2005</td>\n",
       "      <td>80.134460</td>\n",
       "    </tr>\n",
       "    <tr>\n",
       "      <th>2</th>\n",
       "      <td>Mar.2005</td>\n",
       "      <td>81.396413</td>\n",
       "    </tr>\n",
       "    <tr>\n",
       "      <th>3</th>\n",
       "      <td>Abr.2005</td>\n",
       "      <td>87.073447</td>\n",
       "    </tr>\n",
       "    <tr>\n",
       "      <th>4</th>\n",
       "      <td>May.2005</td>\n",
       "      <td>92.141455</td>\n",
       "    </tr>\n",
       "    <tr>\n",
       "      <th>...</th>\n",
       "      <td>...</td>\n",
       "      <td>...</td>\n",
       "    </tr>\n",
       "    <tr>\n",
       "      <th>175</th>\n",
       "      <td>Ago.2019</td>\n",
       "      <td>172.844689</td>\n",
       "    </tr>\n",
       "    <tr>\n",
       "      <th>176</th>\n",
       "      <td>Sep.2019</td>\n",
       "      <td>172.464651</td>\n",
       "    </tr>\n",
       "    <tr>\n",
       "      <th>177</th>\n",
       "      <td>Oct.2019</td>\n",
       "      <td>176.009008</td>\n",
       "    </tr>\n",
       "    <tr>\n",
       "      <th>178</th>\n",
       "      <td>Nov.2019</td>\n",
       "      <td>174.036428</td>\n",
       "    </tr>\n",
       "    <tr>\n",
       "      <th>179</th>\n",
       "      <td>Dic.2019</td>\n",
       "      <td>189.523889</td>\n",
       "    </tr>\n",
       "  </tbody>\n",
       "</table>\n",
       "<p>180 rows × 2 columns</p>\n",
       "</div>"
      ],
      "text/plain": [
       "       Fechas     Valores\n",
       "0    Ene.2005   79.979161\n",
       "1    Feb.2005   80.134460\n",
       "2    Mar.2005   81.396413\n",
       "3    Abr.2005   87.073447\n",
       "4    May.2005   92.141455\n",
       "..        ...         ...\n",
       "175  Ago.2019  172.844689\n",
       "176  Sep.2019  172.464651\n",
       "177  Oct.2019  176.009008\n",
       "178  Nov.2019  174.036428\n",
       "179  Dic.2019  189.523889\n",
       "\n",
       "[180 rows x 2 columns]"
      ]
     },
     "execution_count": 142,
     "metadata": {},
     "output_type": "execute_result"
    }
   ],
   "source": [
    "df = pd.DataFrame(diccionario)\n",
    "#df.set_index(df['date'], inplace=True)\n",
    "#df=df.drop(columns=['date'])\n",
    "#df[\"Fechas\"]=pd.to_datetime(df[\"Fechas\"], infer_datetime_format=True)\n",
    "#Hay nulls?\n",
    "#df.isnull().sum()  #no hay\n",
    "df"
   ]
  },
  {
   "cell_type": "code",
   "execution_count": 143,
   "metadata": {
    "colab": {
     "base_uri": "https://localhost:8080/",
     "height": 366
    },
    "id": "NaIylaq0GY6X",
    "outputId": "57801c03-e100-4a56-9737-a88f3b21d8bb"
   },
   "outputs": [
    {
     "name": "stderr",
     "output_type": "stream",
     "text": [
      "C:\\Users\\abner\\anaconda3\\lib\\site-packages\\seaborn\\distributions.py:2551: FutureWarning: `distplot` is a deprecated function and will be removed in a future version. Please adapt your code to use either `displot` (a figure-level function with similar flexibility) or `histplot` (an axes-level function for histograms).\n",
      "  warnings.warn(msg, FutureWarning)\n"
     ]
    },
    {
     "data": {
      "text/plain": [
       "Text(0.5, 1.0, 'Distribución deL PBI')"
      ]
     },
     "execution_count": 143,
     "metadata": {},
     "output_type": "execute_result"
    },
    {
     "data": {
      "image/png": "[encoded data removed]",
      "text/plain": [
       "<Figure size 432x288 with 1 Axes>"
      ]
     },
     "metadata": {
      "needs_background": "light"
     },
     "output_type": "display_data"
    }
   ],
   "source": [
    "import matplotlib.pyplot as plt\n",
    "import seaborn as sns\n",
    "sns.distplot(df['Valores'])\n",
    "plt.title('Distribución deL PBI')"
   ]
  },
  {
   "cell_type": "code",
   "execution_count": 144,
   "metadata": {
    "colab": {
     "base_uri": "https://localhost:8080/",
     "height": 282
    },
    "id": "kR7Tf-r1GY6b",
    "outputId": "323cfcb1-5f6e-48fb-aac2-d816aa2388ab"
   },
   "outputs": [
    {
     "data": {
      "text/plain": [
       "<AxesSubplot:>"
      ]
     },
     "execution_count": 144,
     "metadata": {},
     "output_type": "execute_result"
    },
    {
     "data": {
      "image/png": "[encoded data removed]",
      "text/plain": [
       "<Figure size 432x288 with 1 Axes>"
      ]
     },
     "metadata": {
      "needs_background": "light"
     },
     "output_type": "display_data"
    }
   ],
   "source": [
    "df.boxplot('Valores')\n"
   ]
  },
  {
   "cell_type": "code",
   "execution_count": 145,
   "metadata": {
    "colab": {
     "base_uri": "https://localhost:8080/",
     "height": 334
    },
    "id": "VUT7WA-JGY6c",
    "outputId": "383f6a2f-0a1f-4cf9-a0b7-267033c9dd1b"
   },
   "outputs": [
    {
     "data": {
      "image/png": "[encoded data removed]",
      "text/plain": [
       "<Figure size 1080x360 with 1 Axes>"
      ]
     },
     "metadata": {
      "needs_background": "light"
     },
     "output_type": "display_data"
    }
   ],
   "source": [
    "\n",
    "df.plot(x ='Fechas', y='Valores', figsize=(15, 5), kind = 'line')\n",
    "plt.xlabel(\"Fechas\")\n",
    "plt.ylabel(\"PBI\")\n",
    "plt.show()"
   ]
  },
  {
   "cell_type": "code",
   "execution_count": null,
   "metadata": {},
   "outputs": [],
   "source": []
  },
  {
   "cell_type": "code",
   "execution_count": null,
   "metadata": {},
   "outputs": [],
   "source": []
  }
 ],
 "metadata": {
  "colab": {
   "collapsed_sections": [
    "FFxBQlzCGY6u"
   ],
   "name": "Untitled.ipynb",
   "provenance": []
  },
  "kernelspec": {
   "display_name": "Python 3",
   "language": "python",
   "name": "python3"
  },
  "language_info": {
   "codemirror_mode": {
    "name": "ipython",
    "version": 3
   },
   "file_extension": ".py",
   "mimetype": "text/x-python",
   "name": "python",
   "nbconvert_exporter": "python",
   "pygments_lexer": "ipython3",
   "version": "3.8.5"
  }
 },
 "nbformat": 4,
 "nbformat_minor": 1
}
